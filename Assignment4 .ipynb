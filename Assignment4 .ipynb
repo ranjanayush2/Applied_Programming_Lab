{
 "cells": [
  {
   "cell_type": "code",
   "execution_count": null,
   "metadata": {},
   "outputs": [],
   "source": [
    "import networkx as nx"
   ]
  },
  {
   "cell_type": "code",
   "execution_count": 61,
   "metadata": {},
   "outputs": [],
   "source": [
    "def make_graph(netlist):\n",
    "    \"\"\"\n",
    "    netlist : .net file\n",
    "    return graph \n",
    "    \"\"\"\n",
    "    try:\n",
    "        g = nx.DiGraph()\n",
    "        lines = []\n",
    "        with open(netlist, 'r') as data:\n",
    "            lines = data.readlines()\n",
    "        for line in lines:\n",
    "            line = line.split()\n",
    "            if(line[1]=='inv'):\n",
    "                g.add_edges_from([(line[2], line[3])])\n",
    "                nx.set_node_attributes(g, {line[3]:{\"GateType\":\"INV\"}})\n",
    "            elif(line[1]=='buf'):\n",
    "                g.add_edges_from([(line[2], line[3])])\n",
    "                nx.set_node_attributes(g, {line[3]:{\"GateType\":\"BUF\"}})\n",
    "            else:\n",
    "                g.add_edges_from([(line[2], line[4]), (line[3], line[4])])\n",
    "                nx.set_node_attributes(g, {line[4]:{\"GateType\":line[1]}})\n",
    "        return g\n",
    "    except:\n",
    "        return \"Error: Node is missing\"\n",
    "        "
   ]
  },
  {
   "cell_type": "code",
   "execution_count": 62,
   "metadata": {},
   "outputs": [],
   "source": [
    "def logical_operation(input1, input2, operation):\n",
    "    \"\"\"\n",
    "    input1 and input2 are input to gate.\n",
    "    opeartion : Logic Operation \n",
    "    return : Answer after operation on input1 and input2\n",
    "    \"\"\"\n",
    "    if(operation==\"and2\"):\n",
    "        return (input1&input2)\n",
    "    if(operation==\"nand2\"):\n",
    "        return (1 - (input1&input2))\n",
    "    if(operation==\"or2\"):\n",
    "        return (input1|input2)\n",
    "    if(operation==\"xor2\"):\n",
    "        return (input1^input2)\n",
    "    if(operation==\"nor2\"):\n",
    "        return (1 - (input1|input2))\n",
    "    if(operation==\"xnor2\"):\n",
    "        return (1 - (input1^input2))"
   ]
  },
  {
   "cell_type": "code",
   "execution_count": 63,
   "metadata": {},
   "outputs": [],
   "source": [
    "def format_output_file(netlist_file, output_file):\n",
    "    \"\"\"\n",
    "    netlist_file : .net file to make graph\n",
    "    output_file : file to which net value to be written\n",
    "    return : A file format i.e in the first line, net names are written in sorted order\n",
    "    \"\"\"\n",
    "    graph = make_graph(netlist_file)\n",
    "    open(output_file, \"w\") # it will clear the junk data if there is any.\n",
    "    nets = []\n",
    "    for ele in graph.nodes():\n",
    "        nets.append(ele)\n",
    "    nets.sort()\n",
    "    for ele in nets:\n",
    "        with open(output_file, 'a') as OutputFile:\n",
    "            OutputFile.write(f\"{ele:<8} \")\n",
    "    file = open(output_file, 'a')\n",
    "    file.write(f'\\n')\n",
    "    file.close()"
   ]
  },
  {
   "cell_type": "code",
   "execution_count": 64,
   "metadata": {},
   "outputs": [],
   "source": [
    "def solve1(netlist_file, input_value, output_file):\n",
    "    \"\"\"\n",
    "    This function is used to solve digital circuit using Topological sort method.\n",
    "    netlist_file : .net file in which logic circuit discription is given\n",
    "    input_value : It is a list of dictionary where each dictionary values is logic of each primary input with key as net name.\n",
    "    output_file : file where logic of each net to be written finally.\n",
    "    return : An output_file\n",
    "    \"\"\"\n",
    "    graph = make_graph(netlist_file)\n",
    "    for graphs in graph.nodes(data=True):\n",
    "        if(len(graphs[1])==0):\n",
    "            graphs[1][\"GateType\"] = \"PI\"\n",
    "    nets = [ele for ele in graph.nodes()]\n",
    "    \n",
    "    for net_value in input_value: # Here net_value is dictionary\n",
    "        for node in list(nx.topological_sort(graph)):\n",
    "            if(graph.nodes[node][\"GateType\"]==\"PI\"):\n",
    "                graph.nodes[node][\"Value\"] = int(net_value[node])\n",
    "\n",
    "            elif(graph.nodes[node][\"GateType\"]==\"BUF\"):\n",
    "                net = list(graph.predecessors(node))[0]\n",
    "                graph.nodes[node][\"Value\"] = int((net_value[net]))\n",
    "                net_value[node] = graph.nodes[node][\"Value\"]\n",
    "\n",
    "            elif(graph.nodes[node][\"GateType\"]==\"INV\"):\n",
    "                net = list(\n",
    "                    graph.predecessors(node))[0]\n",
    "                graph.nodes[node][\"Value\"] = (1-int(net_value[net]))\n",
    "                net_value[node] = graph.nodes[node][\"Value\"]\n",
    "\n",
    "            else:\n",
    "                net1 = list(graph.predecessors(node))[0]\n",
    "                net2 = list(graph.predecessors(node))[1]\n",
    "                graph.nodes[node][\"Value\"] = logical_operation(int(net_value[net1]), int(net_value[net2]), graph.nodes[node][\"GateType\"])\n",
    "                net_value[node] = graph.nodes[node][\"Value\"]\n",
    "        # Write to the file\n",
    "        for ele in nets:\n",
    "            with open(output_file, 'a') as f:\n",
    "                f.write(f'{graph.nodes[ele][\"Value\"]:<8} ')\n",
    "        f = open(output_file, 'a')\n",
    "        f.write(f\"\\n\")\n",
    "        f.close()"
   ]
  },
  {
   "cell_type": "code",
   "execution_count": 65,
   "metadata": {},
   "outputs": [],
   "source": [
    "def solve_digital_circuit_using_TopoplogicalSort(netlist_file, input_file, output_file):\n",
    "    \"\"\"\n",
    "    It takes .net file and input_file and finally write the final net values in output_file\n",
    "    using solve1() function.\n",
    "    \"\"\"\n",
    "    graph = make_graph(netlist_file)\n",
    "    if(type(graph)==str):\n",
    "        return graph\n",
    "    else:\n",
    "        try:\n",
    "            topo = list(nx.topological_sort(graph))\n",
    "            inputs = []\n",
    "            with open(input_file, 'r') as input:\n",
    "                inputs = input.readlines()\n",
    "            format_output_file(netlist_file, output_file) \n",
    "\n",
    "            nets = [ele for ele in graph.nodes()]\n",
    "            # Make list of dictionary to store the inputs. \n",
    "            input_value = [] # It is a list of dictionary.\n",
    "            for ele in inputs[1:]:\n",
    "                dict = {}\n",
    "                for i in range(len(ele.split())):\n",
    "                    dict[inputs[0].split()[i]] = int(ele.split()[i])\n",
    "                input_value.append(dict)\n",
    "            solve1(netlist_file,input_value,output_file)\n",
    "        except:\n",
    "            print(f\"Given logic circuit is cyclic\")"
   ]
  },
  {
   "cell_type": "markdown",
   "metadata": {},
   "source": [
    "### Event Driven Simulation"
   ]
  },
  {
   "cell_type": "code",
   "execution_count": 66,
   "metadata": {},
   "outputs": [],
   "source": [
    "def solve2(netlist_file, input_value, inputs, output_file):\n",
    "    \"\"\"\n",
    "    netlist_file :  .net file describing the logical circuit\n",
    "    input_value : It is a list of dictionary. Key is primary net name. values is a list representing\n",
    "                  values of the net and a flag indicating if the net logic has changed from the previous \n",
    "                  input set or not\n",
    "    inputs  : It is a list of inputs \n",
    "    output_file : destination file for the output\n",
    "    return : output_file    \n",
    "    \"\"\"\n",
    "    graph = make_graph(netlist_file)\n",
    "\n",
    "    for node in graph.nodes:\n",
    "        graph.nodes[node][\"Value\"] = \"x\"\n",
    "    \n",
    "    nets = [ele for ele in graph.nodes()]\n",
    "    \n",
    "    for input_set in input_value: # here input_set is dictionary with key as PI and value as List([input, True/False])\n",
    "        queue = []\n",
    "        for primary_input in (inputs[0].split()):\n",
    "            if(input_set[primary_input][0]==\"True\"):\n",
    "                queue.append(primary_input)\n",
    "        while(len(queue)>0):\n",
    "            node = queue.pop()\n",
    "            a = list(graph.successors(node))          \n",
    "            temp  = graph.nodes[node][\"Value\"]\n",
    "            b = list(graph.predecessors(node))\n",
    "            if(len(b)==0): # means node is from PI\n",
    "                graph.nodes[node][\"Value\"] = int(input_set[node][1])\n",
    "                for ele in a:\n",
    "                    queue.insert(0, ele)\n",
    "            elif(len(b)==1 and graph.nodes[node][\"GateType\"]==\"BUF\"): # node is buffer's output\n",
    "                if(graph.nodes[b[0]][\"Value\"]==\"x\"): # parent is not known\n",
    "                    continue\n",
    "                else:\n",
    "                    graph.nodes[node][\"Value\"] = int(graph.nodes[b[0]][\"Value\"])\n",
    "                    if(graph.nodes[node][\"Value\"]!= temp):\n",
    "                        for ele in a:\n",
    "                            queue.insert(0, ele)\n",
    "            elif(len(b)==1 and graph.nodes[node][\"GateType\"]==\"INV\"): # node is Inverter's output\n",
    "                if(graph.nodes[b[0]][\"Value\"]==\"x\"):\n",
    "                    continue\n",
    "                else:\n",
    "                    graph.nodes[node][\"Value\"] = 1-int(graph.nodes[b[0]][\"Value\"])\n",
    "                    if(graph.nodes[node][\"Value\"]!= temp):\n",
    "                        for ele in a:\n",
    "                            queue.insert(0, ele)\n",
    "            else:\n",
    "                if(graph.nodes[b[0]][\"Value\"]==\"x\" or graph.nodes[b[1]][\"Value\"]==\"x\"):\n",
    "                    continue\n",
    "                else:\n",
    "                    y = [graph.nodes[ele][\"Value\"] for ele in b]\n",
    "                    gate = graph.nodes[node][\"GateType\"]\n",
    "                    graph.nodes[node][\"Value\"] = logical_operation(int(y[0]), int(y[1]), gate)\n",
    "                    if(graph.nodes[node][\"Value\"]!= temp):\n",
    "                        for ele in a:\n",
    "                            queue.insert(0, ele)\n",
    "        # Write to the file\n",
    "        for ele in nets:\n",
    "            with open(output_file, 'a') as f:\n",
    "                f.write(f'{graph.nodes[ele][\"Value\"]:<8} ')\n",
    "        f = open(output_file, 'a')\n",
    "        f.write(f\"\\n\")\n",
    "        f.close()"
   ]
  },
  {
   "cell_type": "code",
   "execution_count": 67,
   "metadata": {},
   "outputs": [],
   "source": [
    "def event_driven_simulation(netlist_file, input_file, output_file):\n",
    "    \"\"\"\n",
    "    It takes .net file and input_file and finally write the final net values in output_file\n",
    "    using solve2() function.    \n",
    "    \"\"\"\n",
    "    graph = make_graph(netlist_file)\n",
    "    if(type(graph)==str):\n",
    "        return graph\n",
    "    else:\n",
    "        try:\n",
    "            topo = list(nx.topological_sort(graph))\n",
    "            for graphs in graph.nodes(data=True):\n",
    "                if(len(graphs[1])==0):\n",
    "                    graphs[1][\"GateType\"] = \"PI\" \n",
    "            \n",
    "            format_output_file(netlist_file, output_file)   \n",
    "            \n",
    "            inputs = [] # inputs is a list of string\n",
    "            with open(input_file, 'r') as input:\n",
    "                inputs = input.readlines()\n",
    "            \n",
    "            input_value = [] # It is a list of dictionary.\n",
    "            for k, ele in enumerate(inputs[1:]):\n",
    "                dict = {}\n",
    "                if(k==0):\n",
    "                    for i in range(len(ele.split())):\n",
    "                        dict[inputs[0].split()[i]] = [\"True\", int(ele.split()[i])]\n",
    "                else:# check if the input changes or not\n",
    "                # True means we need to add that inputs in queue\n",
    "                # False means we don't need to add that inputs in queue\n",
    "                    for i in range(len(ele.split())):\n",
    "                        if(inputs[k].split()[i]!=ele.split()[i]): # input changes\n",
    "                            dict[inputs[0].split()[i]] = [\"True\", int(ele.split()[i])]\n",
    "                        else: # When input doesn't changes\n",
    "                            dict[inputs[0].split()[i]] = [\"False\", int(ele.split()[i])]\n",
    "                input_value.append(dict)\n",
    "            \n",
    "            solve2(netlist_file, input_value, inputs, output_file)\n",
    "        except:\n",
    "            print(f\"Given logic circuit is cyclic\")"
   ]
  },
  {
   "cell_type": "code",
   "execution_count": 1,
   "metadata": {},
   "outputs": [],
   "source": [
    "# netlist_file = 'c8.net'\n",
    "# input_file = 'c8.inputs'\n",
    "# output_fileT = \"c8T.outputs\"\n",
    "# output_fileE = \"c8E.outputs\"\n",
    "\n",
    "# netlist_file = 'parity.net'\n",
    "# input_file = 'parity.inputs'\n",
    "# output_fileT = \"parityT.outputs\"\n",
    "# output_fileE = \"parityE.outputs\"\n",
    "\n",
    "# netlist_file = 'c17.net'\n",
    "# input_file = 'c17.inputs'\n",
    "# output_fileT = \"c17T.outputs\"\n",
    "# output_fileE = \"c17E.outputs\"\n",
    "\n",
    "\n",
    "netlist_file = 'c432.net'\n",
    "input_file = 'c432.inputs'\n",
    "output_fileT = \"c432T.outputs\"\n",
    "output_fileE = \"c432E.outputs\"\n",
    "\n",
    "# netlist_file = 'c17_1.net'\n",
    "# input_file = 'c17_1.inputs'\n",
    "# output_fileT = \"c17_1T.outputs\"\n",
    "# output_fileE = \"c17_1E.outputs\"\n",
    "\n"
   ]
  },
  {
   "cell_type": "code",
   "execution_count": 2,
   "metadata": {},
   "outputs": [
    {
     "ename": "NameError",
     "evalue": "name 'solve_digital_circuit_using_TopoplogicalSort' is not defined",
     "output_type": "error",
     "traceback": [
      "\u001b[0;31m---------------------------------------------------------------------------\u001b[0m",
      "\u001b[0;31mNameError\u001b[0m                                 Traceback (most recent call last)",
      "Cell \u001b[0;32mIn[2], line 1\u001b[0m\n\u001b[0;32m----> 1\u001b[0m \u001b[43msolve_digital_circuit_using_TopoplogicalSort\u001b[49m(netlist_file, input_file, output_fileT)\n\u001b[1;32m      2\u001b[0m event_driven_simulation(netlist_file, input_file, output_fileE)\n",
      "\u001b[0;31mNameError\u001b[0m: name 'solve_digital_circuit_using_TopoplogicalSort' is not defined"
     ]
    }
   ],
   "source": [
    "solve_digital_circuit_using_TopoplogicalSort(netlist_file, input_file, output_fileT)\n",
    "event_driven_simulation(netlist_file, input_file, output_fileE)"
   ]
  },
  {
   "cell_type": "markdown",
   "metadata": {},
   "source": [
    "##### To Check if the two method gives the same result"
   ]
  },
  {
   "cell_type": "code",
   "execution_count": 58,
   "metadata": {},
   "outputs": [],
   "source": [
    "def check(output_fileE, output_fileT):\n",
    "    T = open(output_fileT, 'r')\n",
    "    E = open(output_fileE, 'r')\n",
    "    T = T.readlines()\n",
    "    E = E.readlines()\n",
    "    for i in range(1, len(T)):\n",
    "        for j in range(len(E[0].split())):\n",
    "            if(T[i].split()[j]!=E[i].split()[j]):\n",
    "                print(\"False\")\n",
    "check(output_fileE, output_fileT)"
   ]
  },
  {
   "cell_type": "markdown",
   "metadata": {},
   "source": [
    "##### Time Comparision"
   ]
  },
  {
   "cell_type": "code",
   "execution_count": 59,
   "metadata": {},
   "outputs": [
    {
     "name": "stdout",
     "output_type": "stream",
     "text": [
      "29.2 ms ± 608 µs per loop (mean ± std. dev. of 7 runs, 10 loops each)\n",
      "28.7 ms ± 1.91 ms per loop (mean ± std. dev. of 7 runs, 10 loops each)\n"
     ]
    }
   ],
   "source": [
    "netlist_file = 'test.net'\n",
    "input_file = 'test.inputs'\n",
    "output_fileT = \"testT.outputs\"\n",
    "output_fileE = \"testE.outputs\"\n",
    "\n",
    "%timeit solve_digital_circuit_using_TopoplogicalSort(netlist_file, input_file, output_fileT)\n",
    "\n",
    "%timeit event_driven_simulation(netlist_file, input_file, output_fileE)"
   ]
  },
  {
   "cell_type": "code",
   "execution_count": 43,
   "metadata": {},
   "outputs": [
    {
     "name": "stdout",
     "output_type": "stream",
     "text": [
      "30.5 ms ± 2.44 ms per loop (mean ± std. dev. of 7 runs, 10 loops each)\n",
      "28.9 ms ± 920 µs per loop (mean ± std. dev. of 7 runs, 10 loops each)\n"
     ]
    }
   ],
   "source": [
    "netlist_file = 'c8.net'\n",
    "input_file = 'c8.inputs'\n",
    "output_fileT = \"c8T.outputs\"\n",
    "output_fileE = \"c8E.outputs\"\n",
    "\n",
    "%timeit solve_digital_circuit_using_TopoplogicalSort(netlist_file, input_file, output_fileT)\n",
    "\n",
    "%timeit event_driven_simulation(netlist_file, input_file, output_fileE)"
   ]
  },
  {
   "cell_type": "code",
   "execution_count": 45,
   "metadata": {},
   "outputs": [
    {
     "name": "stdout",
     "output_type": "stream",
     "text": [
      "7.85 ms ± 407 µs per loop (mean ± std. dev. of 7 runs, 100 loops each)\n",
      "7.12 ms ± 182 µs per loop (mean ± std. dev. of 7 runs, 100 loops each)\n"
     ]
    }
   ],
   "source": [
    "netlist_file = 'parity.net'\n",
    "input_file = 'parity.inputs'\n",
    "output_fileT = \"parityT.outputs\"\n",
    "output_fileE = \"parityE.outputs\"\n",
    "\n",
    "%timeit solve_digital_circuit_using_TopoplogicalSort(netlist_file, input_file, output_fileT)\n",
    "\n",
    "%timeit event_driven_simulation(netlist_file, input_file, output_fileE)\n"
   ]
  },
  {
   "cell_type": "code",
   "execution_count": 46,
   "metadata": {},
   "outputs": [
    {
     "name": "stdout",
     "output_type": "stream",
     "text": [
      "7.09 ms ± 231 µs per loop (mean ± std. dev. of 7 runs, 100 loops each)\n",
      "6.97 ms ± 291 µs per loop (mean ± std. dev. of 7 runs, 100 loops each)\n"
     ]
    }
   ],
   "source": [
    "netlist_file = 'parity.net'\n",
    "input_file = 'parity.inputs'\n",
    "output_fileT = \"parityT.outputs\"\n",
    "output_fileE = \"parityE.outputs\"\n",
    "\n",
    "%timeit solve_digital_circuit_using_TopoplogicalSort(netlist_file, input_file, output_fileT)\n",
    "\n",
    "%timeit event_driven_simulation(netlist_file, input_file, output_fileE)"
   ]
  },
  {
   "cell_type": "code",
   "execution_count": null,
   "metadata": {},
   "outputs": [],
   "source": []
  }
 ],
 "metadata": {
  "kernelspec": {
   "display_name": "Python 3 (ipykernel)",
   "language": "python",
   "name": "python3"
  },
  "language_info": {
   "codemirror_mode": {
    "name": "ipython",
    "version": 3
   },
   "file_extension": ".py",
   "mimetype": "text/x-python",
   "name": "python",
   "nbconvert_exporter": "python",
   "pygments_lexer": "ipython3",
   "version": "3.9.2"
  },
  "vscode": {
   "interpreter": {
    "hash": "0aba51b6ba95f134c5a8645113f62bd6be448b5c486c3d89db116c1b41c16ce3"
   }
  }
 },
 "nbformat": 4,
 "nbformat_minor": 4
}
